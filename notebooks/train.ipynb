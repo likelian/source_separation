{
  "cells": [
    {
      "cell_type": "markdown",
      "metadata": {
        "id": "Gej_NB8BQsfT"
      },
      "source": [
        "[![Open In Colab](https://colab.research.google.com/assets/colab-badge.svg)](https://colab.research.google.com/github/likelian/source_separation/blob/master/notebooks/train.ipynb)"
      ]
    },
    {
      "cell_type": "code",
      "execution_count": null,
      "metadata": {
        "colab": {
          "base_uri": "https://localhost:8080/"
        },
        "id": "seTTchjZQsfV",
        "outputId": "d527ac34-4cf1-4d30-e583-c15a1f9b25ac"
      },
      "outputs": [],
      "source": [
        "!python -V\n",
        "# !nvcc -V\n",
        "# check if GPU is available\n",
        "import torch\n",
        "torch.cuda.is_available()"
      ]
    },
    {
      "cell_type": "code",
      "execution_count": null,
      "metadata": {
        "colab": {
          "base_uri": "https://localhost:8080/"
        },
        "id": "vMWLNV91myxU",
        "outputId": "d029c795-43d2-442b-a500-38a1c3793cf8"
      },
      "outputs": [],
      "source": [
        "from google.colab import drive\n",
        "drive.mount('/content/drive')"
      ]
    },
    {
      "cell_type": "code",
      "execution_count": null,
      "metadata": {
        "colab": {
          "base_uri": "https://localhost:8080/"
        },
        "id": "8UFZn3ZvRCXe",
        "outputId": "7138a209-a266-47c0-92bb-2e783eacb14a"
      },
      "outputs": [],
      "source": [
        "!git clone -b jieun https://github.com/likelian/source_separation.git\n",
        "\n",
        "import os\n",
        "os.chdir(\"/content/source_separation/libsndfile-1.0.28\")\n",
        "\n",
        "!apt-get install automake && ./configure && make && make install\n",
        "# !./configure --prefix=/usr/local/libsndfile CFLAGS=-fPIC --enable-shared\n",
        "\n",
        "os.chdir(\"/content/source_separation\")\n",
        "\n",
        "!python -m pip install -r requirements.txt\n",
        "!pip install -e ."
      ]
    },
    {
      "cell_type": "code",
      "execution_count": null,
      "metadata": {
        "colab": {
          "base_uri": "https://localhost:8080/"
        },
        "id": "E0DwbrbcN6at",
        "outputId": "7e1ca86e-6a3b-4744-a60e-860cd597cde8"
      },
      "outputs": [],
      "source": [
        "# Call this if you want the change on git repo to be reflected after the Colab session started\n",
        "# !git pull origin jieun"
      ]
    },
    {
      "cell_type": "code",
      "execution_count": null,
      "metadata": {
        "colab": {
          "base_uri": "https://localhost:8080/"
        },
        "id": "klf4izyS4A8O",
        "outputId": "04f31e1d-dd04-48fa-ccc5-add2410d83e9"
      },
      "outputs": [],
      "source": [
        "os.chdir(\"/content/source_separation/scripts\")\n",
        "!ls"
      ]
    },
    {
      "cell_type": "code",
      "execution_count": null,
      "metadata": {
        "colab": {
          "base_uri": "https://localhost:8080/"
        },
        "id": "C30RIpwLAL38",
        "outputId": "f15e1505-0d3d-4762-e29b-92013447a8ff"
      },
      "outputs": [],
      "source": [
        "!python train.py --root /content/drive/MyDrive/musdb18hq/musdb18 --output content/drive/MyDrive/transformer_output/ --epoch 10 --seed 42"
      ]
    },
    {
      "cell_type": "code",
      "execution_count": null,
      "metadata": {},
      "outputs": [],
      "source": []
    }
  ],
  "metadata": {
    "accelerator": "GPU",
    "colab": {
      "collapsed_sections": [],
      "name": "train.ipynb",
      "provenance": []
    },
    "kernelspec": {
      "display_name": "Python 3",
      "name": "python3"
    },
    "language_info": {
      "name": "python"
    },
    "orig_nbformat": 4
  },
  "nbformat": 4,
  "nbformat_minor": 0
}
