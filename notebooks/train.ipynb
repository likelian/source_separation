{
  "cells": [
    {
      "cell_type": "markdown",
      "metadata": {
        "id": "Gej_NB8BQsfT"
      },
      "source": [
        "[![Open In Colab](https://colab.research.google.com/assets/colab-badge.svg)](https://colab.research.google.com/github/likelian/source_separation/blob/master/notebooks/train.ipynb)"
      ]
    },
    {
      "cell_type": "code",
      "execution_count": 34,
      "metadata": {
        "id": "seTTchjZQsfV",
        "outputId": "252d463e-9d43-463a-a721-64e3f0a6c837",
        "colab": {
          "base_uri": "https://localhost:8080/"
        }
      },
      "outputs": [
        {
          "output_type": "stream",
          "name": "stdout",
          "text": [
            "Python 3.7.13\n"
          ]
        },
        {
          "output_type": "execute_result",
          "data": {
            "text/plain": [
              "True"
            ]
          },
          "metadata": {},
          "execution_count": 34
        }
      ],
      "source": [
        "!python -V\n",
        "# !nvcc -V\n",
        "# check if GPU is available\n",
        "import torch\n",
        "torch.cuda.is_available()"
      ]
    },
    {
      "cell_type": "code",
      "source": [
        "from google.colab import drive\n",
        "drive.mount('/content/drive')"
      ],
      "metadata": {
        "id": "vMWLNV91myxU",
        "outputId": "251235b6-ebf7-4d03-c308-0a0b96e026c8",
        "colab": {
          "base_uri": "https://localhost:8080/"
        }
      },
      "execution_count": 35,
      "outputs": [
        {
          "output_type": "stream",
          "name": "stdout",
          "text": [
            "Drive already mounted at /content/drive; to attempt to forcibly remount, call drive.mount(\"/content/drive\", force_remount=True).\n"
          ]
        }
      ]
    },
    {
      "cell_type": "code",
      "source": [
        "!git clone https://github.com/likelian/source_separation.git\n",
        "\n",
        "\n"
      ],
      "metadata": {
        "id": "8UFZn3ZvRCXe",
        "outputId": "0199933e-6b20-4073-c20d-f72c665de393",
        "colab": {
          "base_uri": "https://localhost:8080/"
        }
      },
      "execution_count": 36,
      "outputs": [
        {
          "output_type": "stream",
          "name": "stdout",
          "text": [
            "Cloning into 'source_separation'...\n",
            "remote: Enumerating objects: 2974, done.\u001b[K\n",
            "remote: Counting objects: 100% (1158/1158), done.\u001b[K\n",
            "remote: Compressing objects: 100% (700/700), done.\u001b[K\n",
            "remote: Total 2974 (delta 539), reused 983 (delta 438), pack-reused 1816\u001b[K\n",
            "Receiving objects: 100% (2974/2974), 7.17 MiB | 15.63 MiB/s, done.\n",
            "Resolving deltas: 100% (1707/1707), done.\n"
          ]
        }
      ]
    },
    {
      "cell_type": "code",
      "source": [
        "!git branch -a"
      ],
      "metadata": {
        "id": "grMpoR0srEVg"
      },
      "execution_count": null,
      "outputs": []
    },
    {
      "cell_type": "code",
      "source": [
        "!git checkout remotes/origin/likelian"
      ],
      "metadata": {
        "id": "UniJbxmbrPvm"
      },
      "execution_count": null,
      "outputs": []
    },
    {
      "cell_type": "code",
      "source": [
        "import os\n",
        "os.chdir(\"/content/source_separation/libsndfile-1.0.28\")\n",
        "\n",
        "!apt-get install automake && ./configure && make && make install\n",
        "# !./configure --prefix=/usr/local/libsndfile CFLAGS=-fPIC --enable-shared\n",
        "\n",
        "os.chdir(\"/content/source_separation\")\n",
        "\n",
        "!python -m pip install -r requirements.txt"
      ],
      "metadata": {
        "id": "Ov7NtKXFqiql"
      },
      "execution_count": null,
      "outputs": []
    },
    {
      "cell_type": "code",
      "source": [
        "#os.chdir(\"/content/\")\n",
        "os.chdir(\"/content/source_separation/scripts\")\n",
        "\n",
        "!ls"
      ],
      "metadata": {
        "id": "klf4izyS4A8O",
        "outputId": "ec48a43f-c2b8-4e3e-82b8-6d391d177926",
        "colab": {
          "base_uri": "https://localhost:8080/"
        }
      },
      "execution_count": 41,
      "outputs": [
        {
          "output_type": "stream",
          "name": "stdout",
          "text": [
            "drive\t\t\t   environment-gpu-linux-cuda10.yml  source_separation\n",
            "environment-cpu-linux.yml  README.md\t\t\t     train.py\n",
            "environment-cpu-osx.yml    requirements.txt\n"
          ]
        }
      ]
    },
    {
      "cell_type": "code",
      "source": [
        "!python train.py --root drive/MyDrive/musdb18hq/musdb18/ --output drive/MyDrive/musdb18hq/open-unmix-output/vocals/ --seed 42 --epochs 10 --target vocals"
      ],
      "metadata": {
        "id": "nkJpNwKDvje5",
        "outputId": "61115285-2421-4bf4-c76e-3ea312da31f6",
        "colab": {
          "base_uri": "https://localhost:8080/"
        }
      },
      "execution_count": 42,
      "outputs": [
        {
          "output_type": "stream",
          "name": "stdout",
          "text": [
            "Using GPU: True\n",
            "Traceback (most recent call last):\n",
            "  File \"train.py\", line 396, in <module>\n",
            "    main()\n",
            "  File \"train.py\", line 256, in main\n",
            "    train_dataset, batch_size=args.batch_size, shuffle=True, **dataloader_kwargs\n",
            "  File \"/usr/local/lib/python3.7/dist-packages/torch/utils/data/dataloader.py\", line 277, in __init__\n",
            "    sampler = RandomSampler(dataset, generator=generator)  # type: ignore[arg-type]\n",
            "  File \"/usr/local/lib/python3.7/dist-packages/torch/utils/data/sampler.py\", line 98, in __init__\n",
            "    \"value, but got num_samples={}\".format(self.num_samples))\n",
            "ValueError: num_samples should be a positive integer value, but got num_samples=0\n"
          ]
        }
      ]
    }
  ],
  "metadata": {
    "language_info": {
      "name": "python"
    },
    "orig_nbformat": 4,
    "colab": {
      "name": "train.ipynb",
      "provenance": [],
      "collapsed_sections": []
    },
    "kernelspec": {
      "name": "python3",
      "display_name": "Python 3"
    },
    "accelerator": "GPU"
  },
  "nbformat": 4,
  "nbformat_minor": 0
}