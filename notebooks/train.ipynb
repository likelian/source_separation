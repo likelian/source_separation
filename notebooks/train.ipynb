{
  "cells": [
    {
      "cell_type": "markdown",
      "metadata": {
        "id": "Gej_NB8BQsfT"
      },
      "source": [
        "[![Open In Colab](https://colab.research.google.com/assets/colab-badge.svg)](https://colab.research.google.com/github/likelian/source_separation/blob/likelian/notebooks/train.ipynb)"
      ]
    },
    {
      "cell_type": "code",
      "execution_count": 1,
      "metadata": {
        "id": "seTTchjZQsfV",
        "outputId": "1d70192f-f521-4a11-e557-413f3e1a348f",
        "colab": {
          "base_uri": "https://localhost:8080/"
        }
      },
      "outputs": [
        {
          "output_type": "stream",
          "name": "stdout",
          "text": [
            "Python 3.7.13\n"
          ]
        },
        {
          "output_type": "execute_result",
          "data": {
            "text/plain": [
              "False"
            ]
          },
          "metadata": {},
          "execution_count": 1
        }
      ],
      "source": [
        "!python -V\n",
        "# !nvcc -V\n",
        "# check if GPU is available\n",
        "import torch\n",
        "torch.cuda.is_available()"
      ]
    },
    {
      "cell_type": "code",
      "source": [
        "from google.colab import drive\n",
        "drive.mount('/content/drive')"
      ],
      "metadata": {
        "id": "vMWLNV91myxU",
        "outputId": "1406f73b-cbca-4f41-f624-12fb771b4f91",
        "colab": {
          "base_uri": "https://localhost:8080/"
        }
      },
      "execution_count": 2,
      "outputs": [
        {
          "output_type": "stream",
          "name": "stdout",
          "text": [
            "Mounted at /content/drive\n"
          ]
        }
      ]
    },
    {
      "cell_type": "code",
      "source": [
        "import os\n",
        "os.chdir(\"/content/\")\n",
        "!git clone https://github.com/likelian/source_separation.git\n",
        "\n",
        "\n"
      ],
      "metadata": {
        "id": "8UFZn3ZvRCXe",
        "outputId": "dd7991eb-44fd-4ec0-d4e7-2b860661a0d7",
        "colab": {
          "base_uri": "https://localhost:8080/"
        }
      },
      "execution_count": 3,
      "outputs": [
        {
          "output_type": "stream",
          "name": "stdout",
          "text": [
            "Cloning into 'source_separation'...\n",
            "remote: Enumerating objects: 3020, done.\u001b[K\n",
            "remote: Counting objects: 100% (1204/1204), done.\u001b[K\n",
            "remote: Compressing objects: 100% (679/679), done.\u001b[K\n",
            "remote: Total 3020 (delta 563), reused 1089 (delta 501), pack-reused 1816\u001b[K\n",
            "Receiving objects: 100% (3020/3020), 7.20 MiB | 19.92 MiB/s, done.\n",
            "Resolving deltas: 100% (1731/1731), done.\n"
          ]
        }
      ]
    },
    {
      "cell_type": "code",
      "source": [
        "import os\n",
        "os.chdir(\"/content/source_separation/\")\n",
        "!git branch -a"
      ],
      "metadata": {
        "id": "grMpoR0srEVg",
        "outputId": "2b386c09-627e-490d-de0f-a689953102a4",
        "colab": {
          "base_uri": "https://localhost:8080/"
        }
      },
      "execution_count": 4,
      "outputs": [
        {
          "output_type": "stream",
          "name": "stdout",
          "text": [
            "* \u001b[32mmaster\u001b[m\n",
            "  \u001b[31mremotes/origin/HEAD\u001b[m -> origin/master\n",
            "  \u001b[31mremotes/origin/add_stempeg\u001b[m\n",
            "  \u001b[31mremotes/origin/export_onnx_tf\u001b[m\n",
            "  \u001b[31mremotes/origin/faroit/update-torch-1.9.1-add-preloader\u001b[m\n",
            "  \u001b[31mremotes/origin/jieun\u001b[m\n",
            "  \u001b[31mremotes/origin/jointmodel\u001b[m\n",
            "  \u001b[31mremotes/origin/likelian\u001b[m\n",
            "  \u001b[31mremotes/origin/master\u001b[m\n",
            "  \u001b[31mremotes/origin/reducetrainingdata\u001b[m\n"
          ]
        }
      ]
    },
    {
      "cell_type": "code",
      "source": [
        "!git checkout remotes/origin/likelian"
      ],
      "metadata": {
        "id": "UniJbxmbrPvm",
        "colab": {
          "base_uri": "https://localhost:8080/"
        },
        "outputId": "b8c1a9ac-e41f-4467-e87f-a84487a14137"
      },
      "execution_count": 5,
      "outputs": [
        {
          "output_type": "stream",
          "name": "stdout",
          "text": [
            "Note: checking out 'remotes/origin/likelian'.\n",
            "\n",
            "You are in 'detached HEAD' state. You can look around, make experimental\n",
            "changes and commit them, and you can discard any commits you make in this\n",
            "state without impacting any branches by performing another checkout.\n",
            "\n",
            "If you want to create a new branch to retain commits you create, you may\n",
            "do so (now or later) by using -b with the checkout command again. Example:\n",
            "\n",
            "  git checkout -b <new-branch-name>\n",
            "\n",
            "HEAD is now at b4a4912 Created using Colaboratory\n"
          ]
        }
      ]
    },
    {
      "cell_type": "code",
      "source": [
        "import os\n",
        "os.chdir(\"/content/source_separation/libsndfile-1.0.28\")\n",
        "\n",
        "!apt-get install automake && ./configure && make && make install\n",
        "# !./configure --prefix=/usr/local/libsndfile CFLAGS=-fPIC --enable-shared\n",
        "\n",
        "os.chdir(\"/content/source_separation\")\n",
        "\n",
        "!python -m pip install -r requirements.txt"
      ],
      "metadata": {
        "id": "Ov7NtKXFqiql"
      },
      "execution_count": null,
      "outputs": []
    },
    {
      "cell_type": "code",
      "source": [
        "#os.chdir(\"/content/\")\n",
        "os.chdir(\"/content/source_separation/scripts\")\n",
        "\n",
        "!ls"
      ],
      "metadata": {
        "id": "klf4izyS4A8O",
        "outputId": "0fd6de46-e256-483a-9d40-8a918e88c8c9",
        "colab": {
          "base_uri": "https://localhost:8080/"
        }
      },
      "execution_count": 7,
      "outputs": [
        {
          "output_type": "stream",
          "name": "stdout",
          "text": [
            "environment-cpu-linux.yml  environment-gpu-linux-cuda10.yml  requirements.txt\n",
            "environment-cpu-osx.yml    README.md\t\t\t     train.py\n"
          ]
        }
      ]
    },
    {
      "cell_type": "code",
      "source": [
        "!python train.py --root /content/drive/MyDrive/musdb18hq/musdb18 --output /content/drive/MyDrive/musdb18hq/open-unmix-output/vocals/ --seed 42 --epochs 1 --target vocals --loss_func DualLoss"
      ],
      "metadata": {
        "id": "nkJpNwKDvje5",
        "outputId": "3cc1976b-829b-4dad-a61e-785728f404e1",
        "colab": {
          "base_uri": "https://localhost:8080/"
        }
      },
      "execution_count": 63,
      "outputs": [
        {
          "output_type": "stream",
          "name": "stdout",
          "text": [
            "Using GPU: False\n",
            "Training epoch:   0% 0/1 [00:00<?, ?it/s]\n",
            "  0% 0/344 [00:00<?, ?it/s]\u001b[A\n",
            "Training batch:   0% 0/344 [00:26<?, ?it/s]\u001b[A/usr/local/lib/python3.7/dist-packages/asteroid_filterbanks/torch_stft_fb.py:167: RuntimeWarning: Minimum NOLA should be above 1e-11, Found 0.0. Dividind only where possible.\n",
            "  RuntimeWarning,\n",
            "dual\n",
            "\n",
            "Training batch:   0% 0/344 [01:07<?, ?it/s, loss=13903.878]\u001b[A\n",
            "Training batch:   0% 1/344 [01:07<6:25:51, 67.50s/it, loss=13903.878]\u001b[A\n",
            "Training batch:   0% 1/344 [01:47<6:25:51, 67.50s/it, loss=13903.878]\u001b[A/usr/local/lib/python3.7/dist-packages/asteroid_filterbanks/torch_stft_fb.py:167: RuntimeWarning: Minimum NOLA should be above 1e-11, Found 0.0. Dividind only where possible.\n",
            "  RuntimeWarning,\n",
            "dual\n",
            "\n",
            "Training batch:   0% 1/344 [02:29<6:25:51, 67.50s/it, loss=9634.723] \u001b[A\n",
            "Training batch:   1% 2/344 [02:47<7:57:37, 83.80s/it, loss=9634.723]\n",
            "Training epoch:   0% 0/1 [02:47<?, ?it/s]\n",
            "Traceback (most recent call last):\n",
            "  File \"/usr/lib/python3.7/subprocess.py\", line 964, in communicate\n",
            "    stdout, stderr = self._communicate(input, endtime, timeout)\n",
            "  File \"/usr/lib/python3.7/subprocess.py\", line 1715, in _communicate\n",
            "    ready = selector.select(timeout)\n",
            "  File \"/usr/lib/python3.7/selectors.py\", line 415, in select\n",
            "    fd_event_list = self._selector.poll(timeout)\n",
            "KeyboardInterrupt\n",
            "\n",
            "During handling of the above exception, another exception occurred:\n",
            "\n",
            "Traceback (most recent call last):\n",
            "  File \"train.py\", line 454, in <module>\n",
            "    main()\n",
            "  File \"train.py\", line 404, in main\n",
            "    train_loss = train(args, unmix, encoder, decoder, stft, istft, device, train_sampler, optimizer, args.loss_func)\n",
            "  File \"train.py\", line 29, in train\n",
            "    for x, y in pbar:\n",
            "  File \"/usr/local/lib/python3.7/dist-packages/tqdm/std.py\", line 1195, in __iter__\n",
            "    for obj in iterable:\n",
            "  File \"/usr/local/lib/python3.7/dist-packages/torch/utils/data/dataloader.py\", line 530, in __next__\n",
            "    data = self._next_data()\n",
            "  File \"/usr/local/lib/python3.7/dist-packages/torch/utils/data/dataloader.py\", line 570, in _next_data\n",
            "    data = self._dataset_fetcher.fetch(index)  # may raise StopIteration\n",
            "  File \"/usr/local/lib/python3.7/dist-packages/torch/utils/data/_utils/fetch.py\", line 49, in fetch\n",
            "    data = [self.dataset[idx] for idx in possibly_batched_index]\n",
            "  File \"/usr/local/lib/python3.7/dist-packages/torch/utils/data/_utils/fetch.py\", line 49, in <listcomp>\n",
            "    data = [self.dataset[idx] for idx in possibly_batched_index]\n",
            "  File \"../openunmix/data.py\", line 872, in __getitem__\n",
            "    audio = torch.as_tensor(track.sources[source].audio.T, dtype=torch.float32)\n",
            "  File \"/usr/local/lib/python3.7/dist-packages/musdb/audio_classes.py\", line 232, in audio\n",
            "    self.multitrack.sample_rate\n",
            "  File \"/usr/local/lib/python3.7/dist-packages/musdb/audio_classes.py\", line 107, in load_audio\n",
            "    ffmpeg_format=\"s16le\"\n",
            "  File \"/usr/local/lib/python3.7/dist-packages/stempeg/read.py\", line 295, in read_stems\n",
            "    for stem_idx in substreams\n",
            "  File \"/usr/local/lib/python3.7/dist-packages/stempeg/read.py\", line 295, in <listcomp>\n",
            "    for stem_idx in substreams\n",
            "  File \"/usr/local/lib/python3.7/dist-packages/stempeg/read.py\", line 92, in _read_ffmpeg\n",
            "    buffer, _ = process.communicate()\n",
            "  File \"/usr/lib/python3.7/subprocess.py\", line 975, in communicate\n",
            "    self._wait(timeout=sigint_timeout)\n",
            "  File \"/usr/lib/python3.7/subprocess.py\", line 1647, in _wait\n",
            "    time.sleep(delay)\n",
            "KeyboardInterrupt\n"
          ]
        }
      ]
    }
  ],
  "metadata": {
    "language_info": {
      "name": "python"
    },
    "orig_nbformat": 4,
    "colab": {
      "name": "train.ipynb",
      "provenance": [],
      "collapsed_sections": []
    },
    "kernelspec": {
      "name": "python3",
      "display_name": "Python 3"
    },
    "accelerator": "GPU"
  },
  "nbformat": 4,
  "nbformat_minor": 0
}