{
  "cells": [
    {
      "cell_type": "markdown",
      "metadata": {
        "id": "Gej_NB8BQsfT"
      },
      "source": [
        "[![Open In Colab](https://colab.research.google.com/assets/colab-badge.svg)](https://colab.research.google.com/github/likelian/source_separation/blob/likelian/notebooks/train.ipynb)"
      ]
    },
    {
      "cell_type": "code",
      "execution_count": 42,
      "metadata": {
        "id": "seTTchjZQsfV",
        "outputId": "03114fd1-1c6f-40ee-ad30-12e2c5c84583",
        "colab": {
          "base_uri": "https://localhost:8080/"
        }
      },
      "outputs": [
        {
          "output_type": "stream",
          "name": "stdout",
          "text": [
            "Python 3.7.13\n"
          ]
        },
        {
          "output_type": "execute_result",
          "data": {
            "text/plain": [
              "True"
            ]
          },
          "metadata": {},
          "execution_count": 42
        }
      ],
      "source": [
        "!python -V\n",
        "# !nvcc -V\n",
        "# check if GPU is available\n",
        "import torch\n",
        "torch.cuda.is_available()"
      ]
    },
    {
      "cell_type": "code",
      "source": [
        "from google.colab import drive\n",
        "drive.mount('/content/drive')"
      ],
      "metadata": {
        "id": "vMWLNV91myxU",
        "outputId": "cca0869f-b5c0-4a74-cb38-ab844700b228",
        "colab": {
          "base_uri": "https://localhost:8080/"
        }
      },
      "execution_count": 43,
      "outputs": [
        {
          "output_type": "stream",
          "name": "stdout",
          "text": [
            "Drive already mounted at /content/drive; to attempt to forcibly remount, call drive.mount(\"/content/drive\", force_remount=True).\n"
          ]
        }
      ]
    },
    {
      "cell_type": "code",
      "source": [
        "import os\n",
        "os.chdir(\"/content/\")\n",
        "!git clone https://github.com/likelian/source_separation.git\n",
        "\n",
        "\n"
      ],
      "metadata": {
        "id": "8UFZn3ZvRCXe",
        "outputId": "077d5e33-d3f1-4c0b-a86e-12bc1bfbdcf2",
        "colab": {
          "base_uri": "https://localhost:8080/"
        }
      },
      "execution_count": 44,
      "outputs": [
        {
          "output_type": "stream",
          "name": "stdout",
          "text": [
            "fatal: destination path 'source_separation' already exists and is not an empty directory.\n"
          ]
        }
      ]
    },
    {
      "cell_type": "code",
      "source": [
        "import os\n",
        "os.chdir(\"/content/source_separation/\")\n",
        "!git branch -a"
      ],
      "metadata": {
        "id": "grMpoR0srEVg",
        "outputId": "06b06c3f-42e8-422f-9141-b0646aec048d",
        "colab": {
          "base_uri": "https://localhost:8080/"
        }
      },
      "execution_count": 45,
      "outputs": [
        {
          "output_type": "stream",
          "name": "stdout",
          "text": [
            "* \u001b[32m(HEAD detached at origin/likelian)\u001b[m\n",
            "  master\u001b[m\n",
            "  \u001b[31mremotes/origin/HEAD\u001b[m -> origin/master\n",
            "  \u001b[31mremotes/origin/add_stempeg\u001b[m\n",
            "  \u001b[31mremotes/origin/export_onnx_tf\u001b[m\n",
            "  \u001b[31mremotes/origin/faroit/update-torch-1.9.1-add-preloader\u001b[m\n",
            "  \u001b[31mremotes/origin/jieun\u001b[m\n",
            "  \u001b[31mremotes/origin/jointmodel\u001b[m\n",
            "  \u001b[31mremotes/origin/likelian\u001b[m\n",
            "  \u001b[31mremotes/origin/master\u001b[m\n",
            "  \u001b[31mremotes/origin/reducetrainingdata\u001b[m\n"
          ]
        }
      ]
    },
    {
      "cell_type": "code",
      "source": [
        "!git checkout remotes/origin/likelian"
      ],
      "metadata": {
        "id": "UniJbxmbrPvm"
      },
      "execution_count": null,
      "outputs": []
    },
    {
      "cell_type": "code",
      "source": [
        "import os\n",
        "os.chdir(\"/content/source_separation/libsndfile-1.0.28\")\n",
        "\n",
        "!apt-get install automake && ./configure && make && make install\n",
        "# !./configure --prefix=/usr/local/libsndfile CFLAGS=-fPIC --enable-shared\n",
        "\n",
        "os.chdir(\"/content/source_separation\")\n",
        "\n",
        "!python -m pip install -r requirements.txt"
      ],
      "metadata": {
        "id": "Ov7NtKXFqiql"
      },
      "execution_count": null,
      "outputs": []
    },
    {
      "cell_type": "code",
      "source": [
        "#os.chdir(\"/content/\")\n",
        "os.chdir(\"/content/source_separation/scripts\")\n",
        "\n",
        "!ls"
      ],
      "metadata": {
        "id": "klf4izyS4A8O",
        "outputId": "434ec684-44d0-469e-999e-887cb9b1c5d9",
        "colab": {
          "base_uri": "https://localhost:8080/"
        }
      },
      "execution_count": 49,
      "outputs": [
        {
          "output_type": "stream",
          "name": "stdout",
          "text": [
            "drive\t\t\t   environment-gpu-linux-cuda10.yml  train.py\n",
            "environment-cpu-linux.yml  README.md\n",
            "environment-cpu-osx.yml    requirements.txt\n"
          ]
        }
      ]
    },
    {
      "cell_type": "code",
      "source": [
        "!python train.py --root drive/MyDrive/musdb18hq/musdb18/ --output drive/MyDrive/musdb18hq/open-unmix-output/vocals/ --seed 42 --epochs 10 --target vocals"
      ],
      "metadata": {
        "id": "nkJpNwKDvje5",
        "outputId": "41085bc8-a751-485c-e0bb-d14cbff3102d",
        "colab": {
          "base_uri": "https://localhost:8080/"
        }
      },
      "execution_count": 50,
      "outputs": [
        {
          "output_type": "stream",
          "name": "stdout",
          "text": [
            "Using GPU: True\n",
            "Traceback (most recent call last):\n",
            "  File \"train.py\", line 405, in <module>\n",
            "    main()\n",
            "  File \"train.py\", line 265, in main\n",
            "    train_dataset, batch_size=args.batch_size, shuffle=True, **dataloader_kwargs\n",
            "  File \"/usr/local/lib/python3.7/dist-packages/torch/utils/data/dataloader.py\", line 277, in __init__\n",
            "    sampler = RandomSampler(dataset, generator=generator)  # type: ignore[arg-type]\n",
            "  File \"/usr/local/lib/python3.7/dist-packages/torch/utils/data/sampler.py\", line 98, in __init__\n",
            "    \"value, but got num_samples={}\".format(self.num_samples))\n",
            "ValueError: num_samples should be a positive integer value, but got num_samples=0\n"
          ]
        }
      ]
    }
  ],
  "metadata": {
    "language_info": {
      "name": "python"
    },
    "orig_nbformat": 4,
    "colab": {
      "name": "train.ipynb",
      "provenance": [],
      "collapsed_sections": []
    },
    "kernelspec": {
      "name": "python3",
      "display_name": "Python 3"
    },
    "accelerator": "GPU"
  },
  "nbformat": 4,
  "nbformat_minor": 0
}