{
  "cells": [
    {
      "cell_type": "markdown",
      "metadata": {
        "id": "Gej_NB8BQsfT"
      },
      "source": [
        "[![Open In Colab](https://colab.research.google.com/assets/colab-badge.svg)](https://colab.research.google.com/github/likelian/source_separation/blob/master/notebooks/train.ipynb)"
      ]
    },
    {
      "cell_type": "code",
      "execution_count": 1,
      "metadata": {
        "id": "seTTchjZQsfV",
        "outputId": "e37ebd5e-080a-483f-aa1f-ee4980b7d26d",
        "colab": {
          "base_uri": "https://localhost:8080/"
        }
      },
      "outputs": [
        {
          "output_type": "stream",
          "name": "stdout",
          "text": [
            "Python 3.7.13\n"
          ]
        },
        {
          "output_type": "execute_result",
          "data": {
            "text/plain": [
              "True"
            ]
          },
          "metadata": {},
          "execution_count": 1
        }
      ],
      "source": [
        "!python -V\n",
        "# !nvcc -V\n",
        "# check if GPU is available\n",
        "import torch\n",
        "torch.cuda.is_available()"
      ]
    },
    {
      "cell_type": "code",
      "source": [
        "from google.colab import drive\n",
        "drive.mount('/content/drive')"
      ],
      "metadata": {
        "id": "vMWLNV91myxU",
        "outputId": "177b8038-fdbe-4b3e-ebaa-dbd98c8fdd8c",
        "colab": {
          "base_uri": "https://localhost:8080/"
        }
      },
      "execution_count": 12,
      "outputs": [
        {
          "output_type": "stream",
          "name": "stdout",
          "text": [
            "Drive already mounted at /content/drive; to attempt to forcibly remount, call drive.mount(\"/content/drive\", force_remount=True).\n"
          ]
        }
      ]
    },
    {
      "cell_type": "code",
      "source": [
        "import os\n",
        "\n",
        "!git clone https://github.com/likelian/source_separation.git\n",
        "\n",
        "\n",
        "os.chdir(\"/content/source_separation/libsndfile-1.0.28\")\n",
        "\n",
        "!apt-get install automake && ./configure && make && make install\n",
        "# !./configure --prefix=/usr/local/libsndfile CFLAGS=-fPIC --enable-shared\n",
        "\n",
        "os.chdir(\"/content/source_separation\")\n",
        "\n",
        "!python -m pip install -r requirements.txt"
      ],
      "metadata": {
        "id": "8UFZn3ZvRCXe"
      },
      "execution_count": null,
      "outputs": []
    },
    {
      "cell_type": "code",
      "source": [
        "!git pull"
      ],
      "metadata": {
        "id": "dMqW3CQeLW8L",
        "outputId": "0e987382-8d6c-4202-fa45-389184f8864c",
        "colab": {
          "base_uri": "https://localhost:8080/"
        }
      },
      "execution_count": 25,
      "outputs": [
        {
          "output_type": "stream",
          "name": "stdout",
          "text": [
            "Already up to date.\n"
          ]
        }
      ]
    },
    {
      "cell_type": "code",
      "source": [
        "os.chdir(\"/content/source_separation\")\n",
        "!ls"
      ],
      "metadata": {
        "id": "klf4izyS4A8O"
      },
      "execution_count": null,
      "outputs": []
    },
    {
      "cell_type": "code",
      "source": [
        "!python scripts/train.py --nb-workers 8 --arch transformer --batch-size 1 --root /content/drive/MyDrive/musdb18hq/musdb18 --output drive/MyDrive/musdb18hq/open-unmix-output/vocals/ --seed 42 --epochs 1 --target vocals"
      ],
      "metadata": {
        "id": "nkJpNwKDvje5"
      },
      "execution_count": null,
      "outputs": []
    }
  ],
  "metadata": {
    "language_info": {
      "name": "python"
    },
    "orig_nbformat": 4,
    "colab": {
      "name": "train.ipynb",
      "provenance": [],
      "collapsed_sections": []
    },
    "kernelspec": {
      "name": "python3",
      "display_name": "Python 3"
    },
    "accelerator": "GPU"
  },
  "nbformat": 4,
  "nbformat_minor": 0
}