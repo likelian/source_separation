{
  "cells": [
    {
      "cell_type": "markdown",
      "metadata": {
        "id": "Gej_NB8BQsfT"
      },
      "source": [
        "[![Open In Colab](https://colab.research.google.com/assets/colab-badge.svg)](https://colab.research.google.com/github/likelian/source_separation/blob/master/notebooks/train.ipynb)"
      ]
    },
    {
      "cell_type": "code",
      "execution_count": null,
      "metadata": {
        "id": "seTTchjZQsfV"
      },
      "outputs": [],
      "source": [
        "!python -V\n",
        "# !nvcc -V\n",
        "# check if GPU is available\n",
        "import torch\n",
        "torch.cuda.is_available()"
      ]
    },
    {
      "cell_type": "code",
      "source": [
        "!git clone https://github.com/likelian/source_separation.git\n",
        "\n",
        "import os\n",
        "os.chdir(\"/content/source_separation/libsndfile-1.0.28\")\n",
        "\n",
        "!apt-get install automake && ./configure && make && make install\n",
        "# !./configure --prefix=/usr/local/libsndfile CFLAGS=-fPIC --enable-shared\n",
        "\n",
        "os.chdir(\"/content/source_separation\")\n",
        "\n",
        "!python -m pip install --upgrade -r requirements.txt"
      ],
      "metadata": {
        "id": "8UFZn3ZvRCXe"
      },
      "execution_count": null,
      "outputs": []
    },
    {
      "cell_type": "code",
      "source": [
        "!ls"
      ],
      "metadata": {
        "id": "EtotMEReRayb",
        "outputId": "a227ddc7-b8d8-4e79-ebd4-014daf91a756",
        "colab": {
          "base_uri": "https://localhost:8080/"
        }
      },
      "execution_count": null,
      "outputs": [
        {
          "output_type": "stream",
          "name": "stdout",
          "text": [
            "aclocal.m4\tCOPYING\t\t      Makefile\t   Scripts\n",
            "AUTHORS\t\tdoc\t\t      Makefile.am  sndfile.pc\n",
            "Cfg\t\techo-install-dirs     Makefile.in  sndfile.pc.in\n",
            "ChangeLog\techo-install-dirs.in  man\t   src\n",
            "CMake\t\texamples\t      NEWS\t   tests\n",
            "CMakeLists.txt\tINSTALL\t\t      Octave\t   Win32\n",
            "config.status\tlibsndfile.spec.in    programs\n",
            "configure\tlibtool\t\t      README\n",
            "configure.ac\tM4\t\t      regtest\n"
          ]
        }
      ]
    }
  ],
  "metadata": {
    "language_info": {
      "name": "python"
    },
    "orig_nbformat": 4,
    "colab": {
      "name": "train.ipynb",
      "provenance": []
    },
    "kernelspec": {
      "name": "python3",
      "display_name": "Python 3"
    }
  },
  "nbformat": 4,
  "nbformat_minor": 0
}
